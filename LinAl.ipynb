{
  "nbformat": 4,
  "nbformat_minor": 0,
  "metadata": {
    "colab": {
      "provenance": [],
      "collapsed_sections": [
        "S7ySGkNe29Wr",
        "66u_18T24P8G",
        "kHEaGYUF4TgB",
        "9Ctf-aJj4ZSO",
        "F6PQ0iZ54b_M",
        "ZK0HuW4j5VWl",
        "tq1cQ6noN9wR",
        "A5sbTTHhPS9F",
        "x5IWLVsdPcZd"
      ],
      "authorship_tag": "ABX9TyM5w1etm+RWVgL47iEKOyzs",
      "include_colab_link": true
    },
    "kernelspec": {
      "name": "python3",
      "display_name": "Python 3"
    },
    "language_info": {
      "name": "python"
    }
  },
  "cells": [
    {
      "cell_type": "markdown",
      "metadata": {
        "id": "view-in-github",
        "colab_type": "text"
      },
      "source": [
        "<a href=\"https://colab.research.google.com/github/vit050587/Linear-algebra/blob/master/LinAl.ipynb\" target=\"_parent\"><img src=\"https://colab.research.google.com/assets/colab-badge.svg\" alt=\"Open In Colab\"/></a>"
      ]
    },
    {
      "cell_type": "code",
      "source": [
        "import numpy as np\n",
        "from numpy.linalg import norm\n",
        "import matplotlib.pyplot as plt"
      ],
      "metadata": {
        "id": "al1yw2kB7OEN"
      },
      "execution_count": 25,
      "outputs": []
    },
    {
      "cell_type": "markdown",
      "source": [
        "# Урок 1"
      ],
      "metadata": {
        "id": "S7ySGkNe29Wr"
      }
    },
    {
      "cell_type": "markdown",
      "source": [
        "## Задание 1.1"
      ],
      "metadata": {
        "id": "2uZ9l4qd8_L8"
      }
    },
    {
      "cell_type": "markdown",
      "source": [
        "Исследовать на линейную зависимость:\n",
        "$$f_{1}(x)=e^{x}, f_{2}(x)=1, f_{3}(x)=x+1, f_{4}(x)=x-e^{x}.$$"
      ],
      "metadata": {
        "id": "WgmdFCcX9Vls"
      }
    },
    {
      "cell_type": "markdown",
      "source": [
        "$$f_{3}(x)=f_{2}(x)+ x$$\n",
        "$$x=f_{3}(x)-f_{2}(x), f_{4}(x)=f_{3}(x)-f_{2}(x)-f_{1}(x)$$\n",
        "Вывод: один из векторов - линейная комибнация остальных, значит они линейно зависимы."
      ],
      "metadata": {
        "id": "MRuvU4Rj-hZV"
      }
    },
    {
      "cell_type": "markdown",
      "source": [
        "## Задание 2.1"
      ],
      "metadata": {
        "id": "jU_J5_7H9HO6"
      }
    },
    {
      "cell_type": "markdown",
      "source": [
        "Исследовать на линейную зависимость:\n",
        "$$f_{1}(x)=2, f_{2}(x)=x, f_{3}(x)=x^{2}, f_{4}(x)=(x+1)^{2}.$$"
      ],
      "metadata": {
        "id": "vlFpFUeT9ah7"
      }
    },
    {
      "cell_type": "markdown",
      "source": [
        "$$f_{4}(x)=f_{3}(x)+2f_{2}(x)+0.5f_{1}(x)$$\n",
        "Вывод: они линейно зависимы."
      ],
      "metadata": {
        "id": "x_quXQC2_1Fn"
      }
    },
    {
      "cell_type": "markdown",
      "source": [
        "## Задание 3.1"
      ],
      "metadata": {
        "id": "DcPMaVPH9ObC"
      }
    },
    {
      "cell_type": "markdown",
      "source": [
        "Найти координаты вектора $x = (2, 3, 5)\\in \\mathbb{R}^{3}$ в базисе $b_{1}=(0, 0, 10)$, $b_{2}=(2, 0, 0)$, $b_{3}=(0, 1, 0)$."
      ],
      "metadata": {
        "id": "OIoZtzpf9gHc"
      }
    },
    {
      "cell_type": "markdown",
      "source": [
        "$$x=b_{2}+3b_{3}+0.5b_{1}$$"
      ],
      "metadata": {
        "id": "ZkqDmBNHAvYR"
      }
    },
    {
      "cell_type": "markdown",
      "source": [
        "## Задание 4.1"
      ],
      "metadata": {
        "id": "Ka7WaMBB9Q0y"
      }
    },
    {
      "cell_type": "markdown",
      "source": [
        "Найти координаты вектора $3x^{2}-2x+2\\in\\mathbb{R}^{3}[x]$:\n",
        "\n",
        "   а) в базисе $1$, $x$, $x^{2}$;\n",
        "\n",
        "   б) в базисе $x^{2}$, $x-1$, $1$."
      ],
      "metadata": {
        "id": "KmtkMdb59mxt"
      }
    },
    {
      "cell_type": "markdown",
      "source": [
        "a) $$x=3b_{3}-2b_{2}+2b_{1}$$\n",
        "б) $$x=3b_{1}-2b_{2}+0*b_{3}$$"
      ],
      "metadata": {
        "id": "d08SWZ5zBv-6"
      }
    },
    {
      "cell_type": "markdown",
      "source": [
        "## Задание 5.1"
      ],
      "metadata": {
        "id": "UGarRgK89THD"
      }
    },
    {
      "cell_type": "markdown",
      "source": [
        "Установить, является ли линейным подпространством:\n",
        "\n",
        "а) совокупность всех векторов трехмерного пространства, у которых по крайней мере одна из первых двух координат равна нулю;\n",
        "\n",
        "б) все векторы, являющиеся линейными комбинациями данных векторов  {u1,u2,...,un} ."
      ],
      "metadata": {
        "id": "vt76svfz9r_e"
      }
    },
    {
      "cell_type": "markdown",
      "source": [
        "а) $$(0,a,b)+(c,0,d)=(c,a,b+d)$$\n",
        "Вывод: не принадлежат указанному множеству веторов.\n",
        "\n",
        "б) Вывод: если векторы являются линейнными комбинациями, значит они линейно зависимы и значит являются линейным подпространством\n"
      ],
      "metadata": {
        "id": "sAVfmre2CXj7"
      }
    },
    {
      "cell_type": "markdown",
      "source": [
        "## Задание 1.2"
      ],
      "metadata": {
        "id": "-GHqAztA3CXc"
      }
    },
    {
      "cell_type": "markdown",
      "source": [
        "Найти скалярное произведение векторов $x, y \\in \\mathbb{R}$:<br>\n",
        "а) $x=(0,-3, 6),~y=(-4, 7, 9);$<br>\n",
        "б) $x=(7, -4, 0, 1),~y=(-3, 1, 11, 2).$"
      ],
      "metadata": {
        "id": "Li0MmOMr3Tno"
      }
    },
    {
      "cell_type": "code",
      "source": [
        "x = np.array([0, -3, 6])\n",
        "y = np.array([-4, 7, 9])\n",
        "print(f'вариант a)(x, y) =\\t{x.dot(y)}')\n",
        "x = np.array([7, -4, 0, 1])\n",
        "y = np.array([-3, 1, 11, 2])\n",
        "print(f'варианти б)(x, y) =\\t{x.dot(y)}')"
      ],
      "metadata": {
        "colab": {
          "base_uri": "https://localhost:8080/"
        },
        "id": "6QoJW3xU6yAI",
        "outputId": "a2c6aea5-3989-462f-ae6f-4fdf362260ae"
      },
      "execution_count": 2,
      "outputs": [
        {
          "output_type": "stream",
          "name": "stdout",
          "text": [
            "вариант a)(x, y) =\t33\n",
            "варианти б)(x, y) =\t-23\n"
          ]
        }
      ]
    },
    {
      "cell_type": "markdown",
      "source": [
        "## Задание 2.2"
      ],
      "metadata": {
        "id": "f7SL1Aqx3HS8"
      }
    },
    {
      "cell_type": "markdown",
      "source": [
        "Найти нормы векторов $(4, 2, 4)$ и $(12, 3, 4)$ и угол между ними."
      ],
      "metadata": {
        "id": "e4L57Nn53YJN"
      }
    },
    {
      "cell_type": "code",
      "source": [
        "a = np.array([4, 2, 4])\n",
        "b = np.array([12, 3, 4])\n",
        "print(f'l1 норма вектора a:\\t{norm(a, ord=1)}')\n",
        "print(f'l1 норма вектора b:\\t{norm(b, ord=1)}')\n",
        "print(f'l2 норма вектора a:\\t{norm(a, ord=2)}')\n",
        "print(f'l2 норма вектора b:\\t{norm(b, ord=2)}')\n",
        "cos_phi = np.dot(a, b) / norm(a) / norm(b)\n",
        "print(f'Косинус угла между a и b: {cos_phi:.2f}')\n",
        "print(f'Угол между a и b: {np.arccos(cos_phi):.2f}')"
      ],
      "metadata": {
        "colab": {
          "base_uri": "https://localhost:8080/"
        },
        "id": "pjShXyW17_kt",
        "outputId": "bae57753-c894-45f9-e0cf-24514a6a5875"
      },
      "execution_count": 3,
      "outputs": [
        {
          "output_type": "stream",
          "name": "stdout",
          "text": [
            "l1 норма вектора a:\t10.0\n",
            "l1 норма вектора b:\t19.0\n",
            "l2 норма вектора a:\t6.0\n",
            "l2 норма вектора b:\t13.0\n",
            "Косинус угла между a и b: 0.90\n",
            "Угол между a и b: 0.46\n"
          ]
        }
      ]
    },
    {
      "cell_type": "markdown",
      "source": [
        "## Задание 3.2"
      ],
      "metadata": {
        "id": "qfYXAKGq3JId"
      }
    },
    {
      "cell_type": "markdown",
      "source": [
        "Будет ли линейное пространство евклидовым, если за скалярное произведение принять:<br>\n",
        "а) произведение длин векторов;<br>\n",
        "б) утроенное обычное скалярное произведение векторов?"
      ],
      "metadata": {
        "id": "8s8nAwX_3ZW-"
      }
    },
    {
      "cell_type": "markdown",
      "source": [
        "а) Да, но при условии если $x_{1} \\mbox{ и } x_{2}$ будут коллинеарны. Если же они не коллинеарны, то норма от $x_{1} + x_{2}$ будет меньше, чем нормы от этих векторов по отдельности а значит не выполнится третья аксиома для Евклидова пространства: $(x_{1}+x_{2},y)=(x_{1},y)+(x_{2},y)$<br>\n",
        "б) Да, так как выполнятся все аксиомы для Евклидова пространства"
      ],
      "metadata": {
        "id": "oNXO9qXPBUJm"
      }
    },
    {
      "cell_type": "markdown",
      "source": [
        "## Задание 4.2"
      ],
      "metadata": {
        "id": "AFD07qPJ3MOz"
      }
    },
    {
      "cell_type": "markdown",
      "source": [
        "Какие из нижеперечисленных векторов образуют ортонормированный базис в линейном пространстве $\\mathbb{R}^{3}$:<br>\n",
        "а) $(1,0,0),(0,0,1);$ <br>\n",
        "б) $(1/\\sqrt{2},-1/\\sqrt{2},0),(1/\\sqrt{2},1/\\sqrt{2},0), (0,0,1);$<br>\n",
        "в) $(1/2, -1/2, 0), (0, 1/2, 1/2), (0,0,1);$<br>\n",
        "г) $(1,0,0),(0,1,0),(0,0,1)?$ "
      ],
      "metadata": {
        "id": "_bYxz7Yx3y9z"
      }
    },
    {
      "cell_type": "markdown",
      "source": [
        "# Урок 2"
      ],
      "metadata": {
        "id": "66u_18T24P8G"
      }
    },
    {
      "cell_type": "markdown",
      "source": [
        "## Задание 1.1"
      ],
      "metadata": {
        "id": "PvBgUVlXwypj"
      }
    },
    {
      "cell_type": "markdown",
      "source": [
        "Установить, какие произведения матриц $AB$ и $BA$ определены, и найти размерности полученных матриц:\n",
        "\n",
        "   а) $A$ — матрица $4\\times 2$, $B$ — матрица $4\\times 2$;\n",
        "    \n",
        "   б) $A$ — матрица $2\\times 5$, $B$ — матрица $5\\times 3$;\n",
        "    \n",
        "   в) $A$ — матрица $8\\times 3$, $B$ — матрица $3\\times 8$;\n",
        "    \n",
        "   г) $A$ — квадратная матрица $4\\times 4$, $B$ — квадратная матрица $4\\times 4$.\n",
        "    "
      ],
      "metadata": {
        "id": "4jUmwYx9xR1G"
      }
    },
    {
      "cell_type": "code",
      "source": [
        "# A — матрица 4×2 , B — матрица 4×2\n",
        "A = np.ones((4,2))\n",
        "B = np.ones((4,2))\n",
        "print(f'Матрица A\\n{A}')\n",
        "print(f'Матрица B\\n{B}')\n",
        "print(f'Матрица AB\\n{np.dot(A, B)}')\n",
        "print(f'Матрица BA\\n{np.dot(B, A)}')"
      ],
      "metadata": {
        "colab": {
          "base_uri": "https://localhost:8080/",
          "height": 445
        },
        "id": "JHS-6biwyejP",
        "outputId": "c0ed87ff-0997-4d6f-d406-82b17f070ad2"
      },
      "execution_count": 4,
      "outputs": [
        {
          "output_type": "stream",
          "name": "stdout",
          "text": [
            "Матрица A\n",
            "[[1. 1.]\n",
            " [1. 1.]\n",
            " [1. 1.]\n",
            " [1. 1.]]\n",
            "Матрица B\n",
            "[[1. 1.]\n",
            " [1. 1.]\n",
            " [1. 1.]\n",
            " [1. 1.]]\n"
          ]
        },
        {
          "output_type": "error",
          "ename": "ValueError",
          "evalue": "ignored",
          "traceback": [
            "\u001b[0;31m---------------------------------------------------------------------------\u001b[0m",
            "\u001b[0;31mValueError\u001b[0m                                Traceback (most recent call last)",
            "\u001b[0;32m<ipython-input-4-5183384e9d7b>\u001b[0m in \u001b[0;36m<module>\u001b[0;34m\u001b[0m\n\u001b[1;32m      4\u001b[0m \u001b[0mprint\u001b[0m\u001b[0;34m(\u001b[0m\u001b[0;34mf'Матрица A\\n{A}'\u001b[0m\u001b[0;34m)\u001b[0m\u001b[0;34m\u001b[0m\u001b[0;34m\u001b[0m\u001b[0m\n\u001b[1;32m      5\u001b[0m \u001b[0mprint\u001b[0m\u001b[0;34m(\u001b[0m\u001b[0;34mf'Матрица B\\n{B}'\u001b[0m\u001b[0;34m)\u001b[0m\u001b[0;34m\u001b[0m\u001b[0;34m\u001b[0m\u001b[0m\n\u001b[0;32m----> 6\u001b[0;31m \u001b[0mprint\u001b[0m\u001b[0;34m(\u001b[0m\u001b[0;34mf'Матрица AB\\n{np.dot(A, B)}'\u001b[0m\u001b[0;34m)\u001b[0m\u001b[0;34m\u001b[0m\u001b[0;34m\u001b[0m\u001b[0m\n\u001b[0m\u001b[1;32m      7\u001b[0m \u001b[0mprint\u001b[0m\u001b[0;34m(\u001b[0m\u001b[0;34mf'Матрица BA\\n{np.dot(B, A)}'\u001b[0m\u001b[0;34m)\u001b[0m\u001b[0;34m\u001b[0m\u001b[0;34m\u001b[0m\u001b[0m\n",
            "\u001b[0;32m<__array_function__ internals>\u001b[0m in \u001b[0;36mdot\u001b[0;34m(*args, **kwargs)\u001b[0m\n",
            "\u001b[0;31mValueError\u001b[0m: shapes (4,2) and (4,2) not aligned: 2 (dim 1) != 4 (dim 0)"
          ]
        }
      ]
    },
    {
      "cell_type": "code",
      "source": [
        "# A — матрица 2×5 , B — матрица 5×3\n",
        "A = np.ones((2,5))\n",
        "B = np.ones((5,3))\n",
        "print(f'Матрица A\\n{A}')\n",
        "print(f'Матрица B\\n{B}')\n",
        "print(f'Матрица AB\\n{np.dot(A, B)}')\n",
        "print(f'Матрица BA\\n{np.dot(B, A)}')"
      ],
      "metadata": {
        "colab": {
          "base_uri": "https://localhost:8080/",
          "height": 464
        },
        "id": "IST4QhcM0I2y",
        "outputId": "dc0601a9-67f5-4839-e5b2-6eea0f0cc26e"
      },
      "execution_count": 6,
      "outputs": [
        {
          "output_type": "stream",
          "name": "stdout",
          "text": [
            "Матрица A\n",
            "[[1. 1. 1. 1. 1.]\n",
            " [1. 1. 1. 1. 1.]]\n",
            "Матрица B\n",
            "[[1. 1. 1.]\n",
            " [1. 1. 1.]\n",
            " [1. 1. 1.]\n",
            " [1. 1. 1.]\n",
            " [1. 1. 1.]]\n",
            "Матрица AB\n",
            "[[5. 5. 5.]\n",
            " [5. 5. 5.]]\n"
          ]
        },
        {
          "output_type": "error",
          "ename": "ValueError",
          "evalue": "ignored",
          "traceback": [
            "\u001b[0;31m---------------------------------------------------------------------------\u001b[0m",
            "\u001b[0;31mValueError\u001b[0m                                Traceback (most recent call last)",
            "\u001b[0;32m<ipython-input-6-136598960090>\u001b[0m in \u001b[0;36m<module>\u001b[0;34m\u001b[0m\n\u001b[1;32m      5\u001b[0m \u001b[0mprint\u001b[0m\u001b[0;34m(\u001b[0m\u001b[0;34mf'Матрица B\\n{B}'\u001b[0m\u001b[0;34m)\u001b[0m\u001b[0;34m\u001b[0m\u001b[0;34m\u001b[0m\u001b[0m\n\u001b[1;32m      6\u001b[0m \u001b[0mprint\u001b[0m\u001b[0;34m(\u001b[0m\u001b[0;34mf'Матрица AB\\n{np.dot(A, B)}'\u001b[0m\u001b[0;34m)\u001b[0m\u001b[0;34m\u001b[0m\u001b[0;34m\u001b[0m\u001b[0m\n\u001b[0;32m----> 7\u001b[0;31m \u001b[0mprint\u001b[0m\u001b[0;34m(\u001b[0m\u001b[0;34mf'Матрица BA\\n{np.dot(B, A)}'\u001b[0m\u001b[0;34m)\u001b[0m\u001b[0;34m\u001b[0m\u001b[0;34m\u001b[0m\u001b[0m\n\u001b[0m",
            "\u001b[0;32m<__array_function__ internals>\u001b[0m in \u001b[0;36mdot\u001b[0;34m(*args, **kwargs)\u001b[0m\n",
            "\u001b[0;31mValueError\u001b[0m: shapes (5,3) and (2,5) not aligned: 3 (dim 1) != 2 (dim 0)"
          ]
        }
      ]
    },
    {
      "cell_type": "code",
      "source": [
        "# A — матрица 8×3 , B — матрица 3×8\n",
        "A = np.ones((8,3))\n",
        "B = np.ones((3,8))\n",
        "print(f'Матрица A\\n{A}')\n",
        "print(f'Матрица B\\n{B}')\n",
        "print(f'Матрица AB\\n{np.dot(A, B)}')\n",
        "print(f'Матрица BA\\n{np.dot(B, A)}')"
      ],
      "metadata": {
        "id": "ShCiPw-60bec",
        "colab": {
          "base_uri": "https://localhost:8080/"
        },
        "outputId": "7c51740f-285e-4bc2-ddcf-21e661c23e5b"
      },
      "execution_count": 7,
      "outputs": [
        {
          "output_type": "stream",
          "name": "stdout",
          "text": [
            "Матрица A\n",
            "[[1. 1. 1.]\n",
            " [1. 1. 1.]\n",
            " [1. 1. 1.]\n",
            " [1. 1. 1.]\n",
            " [1. 1. 1.]\n",
            " [1. 1. 1.]\n",
            " [1. 1. 1.]\n",
            " [1. 1. 1.]]\n",
            "Матрица B\n",
            "[[1. 1. 1. 1. 1. 1. 1. 1.]\n",
            " [1. 1. 1. 1. 1. 1. 1. 1.]\n",
            " [1. 1. 1. 1. 1. 1. 1. 1.]]\n",
            "Матрица AB\n",
            "[[3. 3. 3. 3. 3. 3. 3. 3.]\n",
            " [3. 3. 3. 3. 3. 3. 3. 3.]\n",
            " [3. 3. 3. 3. 3. 3. 3. 3.]\n",
            " [3. 3. 3. 3. 3. 3. 3. 3.]\n",
            " [3. 3. 3. 3. 3. 3. 3. 3.]\n",
            " [3. 3. 3. 3. 3. 3. 3. 3.]\n",
            " [3. 3. 3. 3. 3. 3. 3. 3.]\n",
            " [3. 3. 3. 3. 3. 3. 3. 3.]]\n",
            "Матрица BA\n",
            "[[8. 8. 8.]\n",
            " [8. 8. 8.]\n",
            " [8. 8. 8.]]\n"
          ]
        }
      ]
    },
    {
      "cell_type": "code",
      "source": [
        "# A — квадратная матрица 4×4 , B — квадратная матрица 4×4\n",
        "A = np.ones((4,4))\n",
        "B = np.ones((4,4))\n",
        "print(f'Матрица A\\n{A}')\n",
        "print(f'Матрица B\\n{B}')\n",
        "print(f'Матрица AB\\n{np.dot(A, B)}')\n",
        "print(f'Матрица BA\\n{np.dot(B, A)}')"
      ],
      "metadata": {
        "id": "i4dZLkCR0lDI",
        "colab": {
          "base_uri": "https://localhost:8080/"
        },
        "outputId": "589e1c7f-4994-4901-ab26-c8ce25bc8917"
      },
      "execution_count": 8,
      "outputs": [
        {
          "output_type": "stream",
          "name": "stdout",
          "text": [
            "Матрица A\n",
            "[[1. 1. 1. 1.]\n",
            " [1. 1. 1. 1.]\n",
            " [1. 1. 1. 1.]\n",
            " [1. 1. 1. 1.]]\n",
            "Матрица B\n",
            "[[1. 1. 1. 1.]\n",
            " [1. 1. 1. 1.]\n",
            " [1. 1. 1. 1.]\n",
            " [1. 1. 1. 1.]]\n",
            "Матрица AB\n",
            "[[4. 4. 4. 4.]\n",
            " [4. 4. 4. 4.]\n",
            " [4. 4. 4. 4.]\n",
            " [4. 4. 4. 4.]]\n",
            "Матрица BA\n",
            "[[4. 4. 4. 4.]\n",
            " [4. 4. 4. 4.]\n",
            " [4. 4. 4. 4.]\n",
            " [4. 4. 4. 4.]]\n"
          ]
        }
      ]
    },
    {
      "cell_type": "markdown",
      "source": [
        "## Задание 2.1"
      ],
      "metadata": {
        "id": "EmeG0j9NwzEf"
      }
    },
    {
      "cell_type": "markdown",
      "source": [
        "Найти сумму и произведение матриц $A=\\begin{pmatrix}\n",
        "1 & -2\\\\ \n",
        "3 & 0\n",
        "\\end{pmatrix}$ и $B=\\begin{pmatrix}\n",
        "4 & -1\\\\ \n",
        "0 & 5\n",
        "\\end{pmatrix}.$"
      ],
      "metadata": {
        "id": "I7pYq6XrxUGd"
      }
    },
    {
      "cell_type": "code",
      "source": [
        "A = np.array([[1,-2],[3,0]])\n",
        "B = np.array([[4,-1],[0,5]])\n",
        "print(f'Матрица A\\n{A}')\n",
        "print(f'Матрица B\\n{B}')\n",
        "print(f'Матрица A+B\\n{A+B}')\n",
        "print(f'Матрица AxB\\n{np.dot(A, B)}')"
      ],
      "metadata": {
        "id": "T9GgXFiC0_38",
        "colab": {
          "base_uri": "https://localhost:8080/"
        },
        "outputId": "723da34e-f875-4f5b-97db-1b0cdf879019"
      },
      "execution_count": 9,
      "outputs": [
        {
          "output_type": "stream",
          "name": "stdout",
          "text": [
            "Матрица A\n",
            "[[ 1 -2]\n",
            " [ 3  0]]\n",
            "Матрица B\n",
            "[[ 4 -1]\n",
            " [ 0  5]]\n",
            "Матрица A+B\n",
            "[[ 5 -3]\n",
            " [ 3  5]]\n",
            "Матрица AxB\n",
            "[[  4 -11]\n",
            " [ 12  -3]]\n"
          ]
        }
      ]
    },
    {
      "cell_type": "markdown",
      "source": [
        "## Задание 3.1"
      ],
      "metadata": {
        "id": "m-6_NUfswzd0"
      }
    },
    {
      "cell_type": "markdown",
      "source": [
        "Из закономерностей сложения и умножения матриц на число можно сделать вывод, что матрицы одного размера образуют линейное пространство. Вычислить линейную комбинацию $3A-2B+4C$ для матриц $A=\\begin{pmatrix}\n",
        "1 & 7\\\\ \n",
        "3 & -6\n",
        "\\end{pmatrix}$, $B=\\begin{pmatrix}\n",
        "0 & 5\\\\ \n",
        "2 & -1\n",
        "\\end{pmatrix}$, $C=\\begin{pmatrix}\n",
        "2 & -4\\\\ \n",
        "1 & 1\n",
        "\\end{pmatrix}.$"
      ],
      "metadata": {
        "id": "1jg7UR94xZOz"
      }
    },
    {
      "cell_type": "code",
      "source": [
        "A = np.array([[1,7],[3,-6]])\n",
        "B = np.array([[0,5],[2,-1]])\n",
        "C = np.array([[2,-4],[1,1]])\n",
        "print(f'Матрица A\\n{A}')\n",
        "print(f'Матрица B\\n{B}')\n",
        "print(f'Матрица C\\n{B}')\n",
        "print(f'Матрица 3A-2B+4C\\n{3*A+(-2)*B+4*C}')"
      ],
      "metadata": {
        "id": "u6fyV8Nw16TP",
        "colab": {
          "base_uri": "https://localhost:8080/"
        },
        "outputId": "573717a2-9e2c-4eb7-a890-9398a233f987"
      },
      "execution_count": 10,
      "outputs": [
        {
          "output_type": "stream",
          "name": "stdout",
          "text": [
            "Матрица A\n",
            "[[ 1  7]\n",
            " [ 3 -6]]\n",
            "Матрица B\n",
            "[[ 0  5]\n",
            " [ 2 -1]]\n",
            "Матрица C\n",
            "[[ 0  5]\n",
            " [ 2 -1]]\n",
            "Матрица 3A-2B+4C\n",
            "[[ 11  -5]\n",
            " [  9 -12]]\n"
          ]
        }
      ]
    },
    {
      "cell_type": "markdown",
      "source": [
        "## Задание 4.1"
      ],
      "metadata": {
        "id": "h2mLhJtkwz0C"
      }
    },
    {
      "cell_type": "markdown",
      "source": [
        "Дана матрица $A=\\begin{pmatrix}\n",
        "4 & 1\\\\ \n",
        "5 & -2\\\\ \n",
        "2 & 3\n",
        "\\end{pmatrix}$.\n",
        "Вычислить $AA^{T}$ и $A^{T}A$.\n"
      ],
      "metadata": {
        "id": "BtsnH1etxbwK"
      }
    },
    {
      "cell_type": "code",
      "source": [
        "A = np.array([[4,1],[5,-2],[2,3]])\n",
        "print(f'Матрица:\\n{A}')\n",
        "print(f'Транспонированная матрица:\\n{A.T}')\n",
        "print(f'матрица A*AT:\\n{np.dot(A,A.T)}')\n",
        "print(f'матрица AT*A:\\n{np.dot(A.T,A)}')"
      ],
      "metadata": {
        "id": "mvtV8_rJ2CvY",
        "colab": {
          "base_uri": "https://localhost:8080/"
        },
        "outputId": "a693c2d7-55b7-4998-c6ca-36a4e1654a45"
      },
      "execution_count": 11,
      "outputs": [
        {
          "output_type": "stream",
          "name": "stdout",
          "text": [
            "Матрица:\n",
            "[[ 4  1]\n",
            " [ 5 -2]\n",
            " [ 2  3]]\n",
            "Транспонированная матрица:\n",
            "[[ 4  5  2]\n",
            " [ 1 -2  3]]\n",
            "матрица A*AT:\n",
            "[[17 18 11]\n",
            " [18 29  4]\n",
            " [11  4 13]]\n",
            "матрица AT*A:\n",
            "[[45  0]\n",
            " [ 0 14]]\n"
          ]
        }
      ]
    },
    {
      "cell_type": "markdown",
      "source": [
        "## Задание 5.1*"
      ],
      "metadata": {
        "id": "VZkQ2OCbw0Lx"
      }
    },
    {
      "cell_type": "markdown",
      "source": [
        "Написать на Python функцию для перемножения двух произвольных матриц, не используя NumPy."
      ],
      "metadata": {
        "id": "ARp4bJd9xdJ0"
      }
    },
    {
      "cell_type": "code",
      "source": [
        "def matrix_multiplication(m1,m2):\n",
        "    s=0     # сумма\n",
        "    t=[]    # временная матрица\n",
        "    m3=[]   # конечная матрица\n",
        "    if len(m2)!=len(m1[0]):\n",
        "        print(\"Матрицы не соответствуют друг другу и не могут быть перемножены\")        \n",
        "    else:\n",
        "        r1=len(m1)      # количество строк в первой матрице\n",
        "        c1=len(m1[0])   # количество столбцов в первой матрице  \n",
        "        r2=c1           # количество строк во второй матрице\n",
        "        c2=len(m2[0])   # количество столбцов во второй матрице\n",
        "        for z in range(0,r1):\n",
        "            for j in range(0,c2):\n",
        "                for i in range(0,c1):\n",
        "                   s=s+m1[z][i]*m2[i][j]\n",
        "                t.append(s)\n",
        "                s=0\n",
        "            m3.append(t)\n",
        "            t=[]           \n",
        "    return m3"
      ],
      "metadata": {
        "id": "wI7SnsHl2KRI"
      },
      "execution_count": 12,
      "outputs": []
    },
    {
      "cell_type": "markdown",
      "source": [
        "## Задание 1.2"
      ],
      "metadata": {
        "id": "kHEaGYUF4TgB"
      }
    },
    {
      "cell_type": "markdown",
      "source": [
        "Вычислить определитель:\n",
        "\n",
        "   a)\n",
        "\n",
        "$$\\begin{vmatrix}\n",
        "sinx & -cosx\\\\ \n",
        "cosx & sinx\n",
        "\\end{vmatrix};$$\n",
        "\n",
        "   б)\n",
        "    \n",
        "$$\\begin{vmatrix}\n",
        "4 & 2 & 3\\\\ \n",
        "0 & 5 & 1\\\\ \n",
        "0 & 0 & 9\n",
        "\\end{vmatrix};$$\n",
        "    \n",
        "   в)\n",
        "\n",
        "$$\\begin{vmatrix}\n",
        "1 & 2 & 3\\\\ \n",
        "4 & 5 & 6\\\\ \n",
        "7 & 8 & 9\n",
        "\\end{vmatrix}.$$"
      ],
      "metadata": {
        "id": "-q1oBUHN4l73"
      }
    },
    {
      "cell_type": "markdown",
      "source": [
        "a) $$detA=sin^2(x)-(-cos^2(x))=1$$\n"
      ],
      "metadata": {
        "id": "Rg0r8NiRz8L1"
      }
    },
    {
      "cell_type": "code",
      "source": [
        "# б)\n",
        "detA=4*(5*9-0*1)-2*(0*9-0*1)+3*(0*0-0*5)\n",
        "print(detA)\n",
        "print('*' * 50)\n",
        "a = np.array([[4, 2, 3], [0, 5, 1], [0, 0, 9]])\n",
        "print(f'Матрица:\\n{a}')\n",
        "print(f'Определитель:\\n{np.linalg.det(a):.0f}')"
      ],
      "metadata": {
        "id": "gRV4mNSb2bqS",
        "colab": {
          "base_uri": "https://localhost:8080/"
        },
        "outputId": "270f2a3f-356c-4cd5-b606-90593d210467"
      },
      "execution_count": 13,
      "outputs": [
        {
          "output_type": "stream",
          "name": "stdout",
          "text": [
            "180\n",
            "**************************************************\n",
            "Матрица:\n",
            "[[4 2 3]\n",
            " [0 5 1]\n",
            " [0 0 9]]\n",
            "Определитель:\n",
            "180\n"
          ]
        }
      ]
    },
    {
      "cell_type": "code",
      "source": [
        "# в)\n",
        "detA=1*(5*9-8*6)-2*(4*9-6*7)+3*(4*8-5*7)\n",
        "print(detA)\n",
        "print('*' * 50)\n",
        "a = np.array([[1, 2, 3], [4, 5, 6], [7, 8, 9]])\n",
        "print(f'Матрица:\\n{a}')\n",
        "print(f'Определитель:\\n{np.linalg.det(a):.0f}')"
      ],
      "metadata": {
        "id": "VPMId1Uo2-qc",
        "colab": {
          "base_uri": "https://localhost:8080/"
        },
        "outputId": "5083ef22-dd1d-4607-8e92-8ff5c5671c27"
      },
      "execution_count": 14,
      "outputs": [
        {
          "output_type": "stream",
          "name": "stdout",
          "text": [
            "0\n",
            "**************************************************\n",
            "Матрица:\n",
            "[[1 2 3]\n",
            " [4 5 6]\n",
            " [7 8 9]]\n",
            "Определитель:\n",
            "0\n"
          ]
        }
      ]
    },
    {
      "cell_type": "markdown",
      "source": [
        "## Задание 2.2"
      ],
      "metadata": {
        "id": "idf25PHp4YCK"
      }
    },
    {
      "cell_type": "markdown",
      "source": [
        "Определитель матрицы $A$ равен $4$. Найти:\n",
        "\n",
        "   а) $det(A^{2})$;\n",
        "    \n",
        "   б) $det(A^{T})$;\n",
        "    \n",
        "   в) $det(2A)$."
      ],
      "metadata": {
        "id": "bJG5M2oa4nb4"
      }
    },
    {
      "cell_type": "markdown",
      "source": [
        "a) $$det(A^2)=det(A)*det(A)=16$$\n",
        "б) $$det(AT)=det(A)=4$$\n",
        "в) $$det(2A)=2*det(A)=8$$"
      ],
      "metadata": {
        "id": "lOq-E8t34TGC"
      }
    },
    {
      "cell_type": "markdown",
      "source": [
        "## Задание 3.2"
      ],
      "metadata": {
        "id": "9Ctf-aJj4ZSO"
      }
    },
    {
      "cell_type": "markdown",
      "source": [
        "Доказать, что матрица\n",
        "\n",
        "$$\\begin{pmatrix}\n",
        "-2 & 7 & -3\\\\ \n",
        "4 & -14 & 6\\\\ \n",
        "-3 & 7 & 13\n",
        "\\end{pmatrix}$$\n",
        "   \n",
        "вырожденная."
      ],
      "metadata": {
        "id": "EtwiD0s-4sk8"
      }
    },
    {
      "cell_type": "code",
      "source": [
        "a = np.array([[-2, 7, -3], [4, -14, 6], [-3, 7, 13]])\n",
        "print(f'Матрица:\\n{a}')\n",
        "print(f'Определитель:\\n{np.linalg.det(a):.0f}')"
      ],
      "metadata": {
        "id": "60LaMGQS44-D",
        "colab": {
          "base_uri": "https://localhost:8080/"
        },
        "outputId": "95263074-8a77-48e8-e7d1-e4809817f436"
      },
      "execution_count": 15,
      "outputs": [
        {
          "output_type": "stream",
          "name": "stdout",
          "text": [
            "Матрица:\n",
            "[[ -2   7  -3]\n",
            " [  4 -14   6]\n",
            " [ -3   7  13]]\n",
            "Определитель:\n",
            "0\n"
          ]
        }
      ]
    },
    {
      "cell_type": "markdown",
      "source": [
        "## Задание 4.2"
      ],
      "metadata": {
        "id": "F6PQ0iZ54b_M"
      }
    },
    {
      "cell_type": "markdown",
      "source": [
        "Найти ранг матрицы:\n",
        "\n",
        "   а) $\\begin{pmatrix}\n",
        "1 & 2 & 3\\\\ \n",
        "1 & 1 & 1\\\\ \n",
        "2 & 3 & 4\n",
        "\\end{pmatrix};$\n",
        "\n",
        "   б) $\\begin{pmatrix}\n",
        "0 & 0 & 2 & 1\\\\ \n",
        "0 & 0 & 2 & 2\\\\ \n",
        "0 & 0 & 4 & 3\\\\ \n",
        "2 & 3 & 5 & 6\n",
        "\\end{pmatrix}.$"
      ],
      "metadata": {
        "id": "z3i-HOQG4whF"
      }
    },
    {
      "cell_type": "code",
      "source": [
        "# а)\n",
        "a = np.array([[1, 2, 3], [1, 1, 1], [2, 3, 4]])\n",
        "print(f'Матрица варианта а):\\n{a}')\n",
        "r = np.linalg.matrix_rank(a)\n",
        "print(f'Ранг матрицы варианта а): {r}')\n",
        "print('*' * 50)\n",
        "# б)\n",
        "b = np.array([[0, 0, 2, 1], [0, 0, 2, 2], [0, 0, 4, 3], [2, 3, 5, 6]])\n",
        "print(f'Матрица варианта б):\\n{b}')\n",
        "r = np.linalg.matrix_rank(b)\n",
        "print(f'Ранг матрицы варианта б): {r}')"
      ],
      "metadata": {
        "id": "8LlDi3qX5OFU",
        "colab": {
          "base_uri": "https://localhost:8080/"
        },
        "outputId": "dd1c0af7-de78-4c68-9564-24527227bd4e"
      },
      "execution_count": 16,
      "outputs": [
        {
          "output_type": "stream",
          "name": "stdout",
          "text": [
            "Матрица варианта а):\n",
            "[[1 2 3]\n",
            " [1 1 1]\n",
            " [2 3 4]]\n",
            "Ранг матрицы варианта а): 2\n",
            "**************************************************\n",
            "Матрица варианта б):\n",
            "[[0 0 2 1]\n",
            " [0 0 2 2]\n",
            " [0 0 4 3]\n",
            " [2 3 5 6]]\n",
            "Ранг матрицы варианта б): 3\n"
          ]
        }
      ]
    },
    {
      "cell_type": "markdown",
      "source": [
        "# Урок 3"
      ],
      "metadata": {
        "id": "ZK0HuW4j5VWl"
      }
    },
    {
      "cell_type": "markdown",
      "source": [
        "## Задание 1"
      ],
      "metadata": {
        "id": "rFTwXijC5ZDX"
      }
    },
    {
      "cell_type": "markdown",
      "source": [
        "Найти собственные векторы и собственные значения для линейного оператора, заданного матрицей\n",
        "\n",
        "$$A=\\begin{pmatrix}\n",
        "-1 & -6\\\\ \n",
        "2 & 6\n",
        "\\end{pmatrix}.$$"
      ],
      "metadata": {
        "id": "n1ZZRLxp53zL"
      }
    },
    {
      "cell_type": "code",
      "source": [
        "a = np.array([[-1, -6], [2, 6]])\n",
        "w, v = np.linalg.eig(a)\n",
        "print(f'Собственные числа: {w}')\n",
        "print(f'Собственные вектора: \\n{v}')"
      ],
      "metadata": {
        "colab": {
          "base_uri": "https://localhost:8080/"
        },
        "id": "YItm4hQz6HH5",
        "outputId": "74a6f91b-1811-4ddc-babb-8a021eae2295"
      },
      "execution_count": 17,
      "outputs": [
        {
          "output_type": "stream",
          "name": "stdout",
          "text": [
            "Собственные числа: [2. 3.]\n",
            "Собственные вектора: \n",
            "[[-0.89442719  0.83205029]\n",
            " [ 0.4472136  -0.5547002 ]]\n"
          ]
        }
      ]
    },
    {
      "cell_type": "markdown",
      "source": [
        "## Задание 2"
      ],
      "metadata": {
        "id": "Wkpz8m5A5Zcz"
      }
    },
    {
      "cell_type": "markdown",
      "source": [
        "Дан оператор поворота на 180 градусов, задаваемый матрицей \n",
        "\n",
        "$$A=\\begin{pmatrix}\n",
        "-1 & 0\\\\ \n",
        "0 & -1\n",
        "\\end{pmatrix}.$$\n",
        "\n",
        "Показать, что __любой__ вектор является для него собственным."
      ],
      "metadata": {
        "id": "_hZZhQkJ54zs"
      }
    },
    {
      "cell_type": "markdown",
      "source": [
        "$$Ae_{1}=-1\\\\cdot e_{1}+0\\\\cdot e_{2}=-e_{1},$$\n",
        "    \n",
        "$$Ae_{2}=0\\\\cdot e_{1}-1\\\\cdot e_{2}=-e_{2}$$\n",
        "  \n",
        "Теперь найдем собственные значения линейного оператора, составив и решив характеристическое уравнение:\n",
        "\n",
        "$$\\begin{vmatrix}\\\\\n",
        "-1-λ & 0\\\\ 0 & -1-λ\n",
        "\\end{vmatrix} = 0$$\n",
        "    \n",
        "$$(-1-λ)(-1-λ)-0*0=0,$$\n",
        "\n",
        "$$(1+λ)^2=0$$\n",
        "    \n",
        "$$λ=-1.$$\n",
        "\n",
        "Теперь найдем собственные векторы вида \n",
        "$\\begin{pmatrix}x_{1}\\\\ x_{2}\n",
        "\\end{pmatrix}$\n",
        "    \n",
        ", подставив полученное собственное значение в выражение $\\textbf{A}x=\\lambda x$\n",
        "\n",
        "$$\\begin{pmatrix}-1 & 0\\\\ 0 & -1\\end{pmatrix}\\begin{pmatrix}x_{1}\\\\ x_{2}\\end{pmatrix}=\\lambda\\begin{pmatrix}x_{1}\\\\ x_{2}\n",
        "\\end{pmatrix}$$\n",
        "  \n",
        "Получим\n",
        "\\begin{cases}\n",
        "-x_{1}+0\\cdot x_{2}= -x_{1}, \\\\\n",
        "0\\cdot x_{1}-x_{2}= -x_{2}.\n",
        "\\end{cases}\n",
        "Перенеся все в левую часть, получим\n",
        "\\begin{cases}\n",
        "0 = 0, \\\\\n",
        "0 = 0;\n",
        "\\end{cases}\n",
        "    \n",
        "следовательно любое $$x_{1}$$ $$x_{2}$$ удовлетворяют условиям системы уравнений\n"
      ],
      "metadata": {
        "id": "o5YpDs5u6256"
      }
    },
    {
      "cell_type": "markdown",
      "source": [
        "## Задание 3"
      ],
      "metadata": {
        "id": "1JDNCEAv5abS"
      }
    },
    {
      "cell_type": "markdown",
      "source": [
        "Пусть линейный оператор задан матрицей\n",
        "\n",
        "$$A=\\begin{pmatrix}\n",
        "1 & 1\\\\ \n",
        "-1 & 3\n",
        "\\end{pmatrix}.$$\n",
        "\n",
        "Установить, является ли вектор $x=(1,1)$ собственным вектором этого линейного оператора.\n"
      ],
      "metadata": {
        "id": "zdrpRwiS59qJ"
      }
    },
    {
      "cell_type": "code",
      "source": [
        "a = np.array([[1, 1], [-1, 3]])\n",
        "w, v = np.linalg.eig(a)\n",
        "print(f'Собственные числа: {w}')"
      ],
      "metadata": {
        "colab": {
          "base_uri": "https://localhost:8080/"
        },
        "id": "I1DrTsPzE7RA",
        "outputId": "fc1c4e94-9635-4d18-f8c8-133ca43fc403"
      },
      "execution_count": 18,
      "outputs": [
        {
          "output_type": "stream",
          "name": "stdout",
          "text": [
            "Собственные числа: [2.00000002 1.99999998]\n"
          ]
        }
      ]
    },
    {
      "cell_type": "markdown",
      "source": [
        "Получим\n",
        "    \n",
        "$$\\begin{cases}x_{1}+x_{2}= 2x_{1}, \\\\-x_{1}+3x_{2}= 2x_{2}.\\end{cases}$$ \n",
        "    \n",
        "$$\\begin{cases}x_{1} = x_{2}, \\\\x_{1} = x_{2};\\end{cases}$$\n",
        "следовательно любое $$x_{1}=x_{2}$$ удовлетворяют условиям системы уравнений и значит вектор (1,1) является собственным\""
      ],
      "metadata": {
        "id": "2jeaglmDFJ9D"
      }
    },
    {
      "cell_type": "markdown",
      "source": [
        "## Задание 4"
      ],
      "metadata": {
        "id": "bGwAIgEO5a5N"
      }
    },
    {
      "cell_type": "markdown",
      "source": [
        "Пусть линейный оператор задан матрицей\n",
        "\n",
        "$$A=\\begin{pmatrix}\n",
        "0 & 3 & 0\\\\ \n",
        "3 & 0 & 0\\\\\n",
        "0 & 0 & 3\n",
        "\\end{pmatrix}.$$\n",
        "\n",
        "Установить, является ли вектор $x=(3, -3, -4)$ собственным вектором этого линейного оператора."
      ],
      "metadata": {
        "id": "uGVzfRFR6BQW"
      }
    },
    {
      "cell_type": "markdown",
      "source": [
        "\"Предположим, что вектор $x$ является собственным вектором заданного линейного оператора, тогда должно существовать некоторое вещественное число $\\lambda$, при котором\n",
        "$$\\begin{pmatrix}0 & 3 & 0\\\\3 & 0 & 0\\\\0 & 0 & 3\\end{pmatrix}\\begin{pmatrix}3\\\\ -3\\\\-4\\end{pmatrix}=\\lambda\\begin{pmatrix}\\\\ -3\\\\-4\\end{pmatrix}$$,\n",
        "    \n",
        "Из этого будет следовать, что,\n",
        "    \n",
        "$$\\begin{cases}-9=3\\cdot\\lambda \\\\ 9 = -3\\cdot \\lambda \\\\-12 = -4\\cdot \\lambda \\\\\\end{cases}$$\n",
        "система решения не имеет значит вектор не является собственным"
      ],
      "metadata": {
        "id": "zHrHa6GkF1n8"
      }
    },
    {
      "cell_type": "markdown",
      "source": [
        "# Урок 4"
      ],
      "metadata": {
        "id": "CgXHVRZNN5iv"
      }
    },
    {
      "cell_type": "markdown",
      "source": [
        "## Задание 1.1"
      ],
      "metadata": {
        "id": "tq1cQ6noN9wR"
      }
    },
    {
      "cell_type": "markdown",
      "source": [
        "Решить систему уравнений методом Гаусса:\n",
        "\n",
        "$$\\begin{cases}\n",
        "x_{1}+x_{2}-x_{3}-2x_{4}=0, \\\\\n",
        "2x_{1}+x_{2}-x_{3}+x_{4}=-2, \\\\\n",
        "x_{1}+x_{2}-3x_{3}+x_{4}=4.\n",
        "\\end{cases}$$"
      ],
      "metadata": {
        "id": "Ik6ijBR4OWeA"
      }
    },
    {
      "cell_type": "markdown",
      "source": [
        "Запишем расширенную матрицу системы:\n",
        "\n",
        "$$\\begin{pmatrix}\n",
        "\\left.\\begin{matrix}\n",
        "1 & 1 & -1 & -2 \\\\ \n",
        "2 & 1 & -1 & 1\\\\ \n",
        "1 & 1 & -3 & 1\n",
        "\\end{matrix}\\right|\n",
        "\\begin{matrix}\n",
        "0\\\\ \n",
        "-2\\\\\n",
        "4\n",
        "\\end{matrix}\n",
        "\\end{pmatrix}.$$\n",
        "\n",
        "Путем элементарных преобразований постараемся привести матрицу к ступенчатому виду.\n",
        "\n",
        "Вычтем из второй строки первую, умноженную на 2:\n",
        "\n",
        "$$\\begin{pmatrix}\n",
        "\\left.\\begin{matrix}\n",
        "1 & 1 & -1 & -2 \\\\ \n",
        "0 & -1 & 1 & -3\\\\ \n",
        "1 & 1 & -3 & 1\n",
        "\\end{matrix}\\right|\n",
        "\\begin{matrix}\n",
        "0\\\\ \n",
        "-2\\\\\n",
        "4\n",
        "\\end{matrix}\n",
        "\\end{pmatrix}.$$\n",
        "\n",
        "Вычтем из  3-ей 1-ую:\n",
        "\n",
        "$$\\begin{pmatrix}\n",
        "\\left.\\begin{matrix}\n",
        "1 & 1 & -1 & -2 \\\\ \n",
        "0 & -1 & 1 & -3\\\\ \n",
        "0 & 0 & -2 & 3\n",
        "\\end{matrix}\\right|\n",
        "\\begin{matrix}\n",
        "0\\\\ \n",
        "-2\\\\\n",
        "4\n",
        "\\end{matrix}\n",
        "\\end{pmatrix}.$$\n",
        "\n",
        "Значит $$-2x3+3x4=4$$, система имеет множество решений. $$x_{4}=c$$ $$x_{3}=-(4-3c)/2$$ $$x_{2}=2-(4-3c)/2-3c$$ $$x_{1}=-(2-(4-3c)/2-3c)-(4-3c)/2+2c$$"
      ],
      "metadata": {
        "id": "QgTaJzxJUObD"
      }
    },
    {
      "cell_type": "markdown",
      "source": [
        "## Задание 2.1"
      ],
      "metadata": {
        "id": "t9X4YnMAOBHW"
      }
    },
    {
      "cell_type": "markdown",
      "source": [
        "Проверить на совместность и выяснить, сколько решений будет иметь система линейных уравнений:\n",
        "\n",
        "   а) $\\begin{cases}\n",
        "3x_{1}-x_{2}+x_{3}=4, \\\\\n",
        "2x_{1}-5x_{2}-3x_{3}=-17, \\\\\n",
        "x_{1}+x_{2}-x_{3}=0;\n",
        "\\end{cases}$\n",
        "    \n",
        "   б) $\\begin{cases}\n",
        "2x_{1}-4x_{2}+6x_{3}=1, \\\\\n",
        "x_{1}-2x_{2}+3x_{3}=-2, \\\\\n",
        "3x_{1}-6x_{2}+9x_{3}=5;\n",
        "\\end{cases}$\n",
        "    \n",
        "   в) $\\begin{cases}\n",
        "x_{1}+2x_{2}+5x_{3}=4, \\\\\n",
        "3x_{1}+x_{2}-8x_{3}=-2. \n",
        "\\end{cases}$"
      ],
      "metadata": {
        "id": "4lHl8GJ4OaVI"
      }
    },
    {
      "cell_type": "code",
      "source": [
        "a = np.array([[3, -1, 1], [2, -5, -3], [1, 1, -1]])\n",
        "a1 = np.array([[4, -1, 1], [-17, -5, -3], [0, 1, -1]])\n",
        "a2 = np.array([[3, 4, 1], [2, -17, -3], [1, 0, -1]])\n",
        "a3 = np.array([[3, -1, 4], [2, -5, -17], [1, 1, 0]])\n",
        "det_a=np.linalg.det(a)\n",
        "det_a1=np.linalg.det(a1)\n",
        "det_a2=np.linalg.det(a2)\n",
        "det_a3=np.linalg.det(a3)\n",
        "print('определители',det_a,det_a1,det_a2,det_a3)\n",
        "x1=det_a1/det_a\n",
        "x2=det_a2/det_a\n",
        "x3=det_a3/det_a\n",
        "print('решение',x1,x2,x3)"
      ],
      "metadata": {
        "colab": {
          "base_uri": "https://localhost:8080/"
        },
        "id": "5_3pxHZHYtvi",
        "outputId": "fdef64a2-c582-4460-cf2b-601e934f5035"
      },
      "execution_count": null,
      "outputs": [
        {
          "output_type": "stream",
          "name": "stdout",
          "text": [
            "определители 32.0 32.000000000000014 64.00000000000003 95.99999999999999\n",
            "решение 1.0000000000000004 2.000000000000001 2.9999999999999996\n"
          ]
        }
      ]
    },
    {
      "cell_type": "markdown",
      "source": [
        "a) значит система совместна и имеет одно решение. вектор (1,2,3)"
      ],
      "metadata": {
        "id": "2Y5IimwraO0K"
      }
    },
    {
      "cell_type": "markdown",
      "source": [
        "б) методом Гаусса видно, что если из 1 уравнения вычесть 2 уравнение умноженное на 2, то получим 0=1 , а значит система решений не имеет и не совместна"
      ],
      "metadata": {
        "id": "gN5NJW5Pawv2"
      }
    },
    {
      "cell_type": "markdown",
      "source": [
        "в) методом гаусса обнулить 1 или 2 строку не получится, т.к. коэффициенты непропорциональны, также очевидно что уравнений меньше чем переменных, а занчит система имеет множество решений и совместна"
      ],
      "metadata": {
        "id": "rS_j6y9Ja_ef"
      }
    },
    {
      "cell_type": "markdown",
      "source": [
        "## Задание 3.1"
      ],
      "metadata": {
        "id": "meiKXCrfOKG-"
      }
    },
    {
      "cell_type": "markdown",
      "source": [
        "Проверить на совместность и выяснить, сколько решений будет иметь система линейных уравнений, заданная расширенной матрицей\n",
        "\n",
        "$$\\tilde{A}=\\begin{pmatrix}\n",
        "\\left.\\begin{matrix}\n",
        "1 & 3 & -2 & 4\\\\ \n",
        "0 & 5 & 0 & 1\\\\ \n",
        "0 & 0 & 3 & 0\\\\ \n",
        "0 & 0 & 0 & 2\n",
        "\\end{matrix}\\right|\n",
        "\\begin{matrix}\n",
        "3\\\\ \n",
        "2\\\\\n",
        "4\\\\\n",
        "1\n",
        "\\end{matrix}\n",
        "\\end{pmatrix}.$$\n"
      ],
      "metadata": {
        "id": "HU8pcsmAOcRg"
      }
    },
    {
      "cell_type": "markdown",
      "source": [
        "коэффициенты непропорциональны, количество уравнений и переменных равно. система совместна и имеет одно решение $$x_{4}=1/2$$ $$x_{3}=4/3$$ $$x_{2}=(2-1/2)/5$$ $$x_{1}=3-(2-1/2)/5+4/3-1/2$$"
      ],
      "metadata": {
        "id": "jRB1d3U-bPx_"
      }
    },
    {
      "cell_type": "code",
      "source": [
        "x4=1/2\n",
        "x3=4/3, \n",
        "x2=(2-1/2)/5 \n",
        "x1=3-(2-1/2)/5+4/3-1/2\n",
        "print(x1,x2,x3,x4)"
      ],
      "metadata": {
        "colab": {
          "base_uri": "https://localhost:8080/"
        },
        "id": "Fg_ROhyAbtfh",
        "outputId": "9a34976d-808d-43a3-fba5-d1cea3219264"
      },
      "execution_count": 19,
      "outputs": [
        {
          "output_type": "stream",
          "name": "stdout",
          "text": [
            "3.533333333333333 0.3 (1.3333333333333333,) 0.5\n"
          ]
        }
      ]
    },
    {
      "cell_type": "markdown",
      "source": [
        "## Задание 4.1"
      ],
      "metadata": {
        "id": "f-48V1aLOMFV"
      }
    },
    {
      "cell_type": "markdown",
      "source": [
        "Дана система линейных уравнений, заданная расширенной матрицей\n",
        "\n",
        "$$\\tilde{A}=\\begin{pmatrix}\n",
        "\\left.\\begin{matrix}\n",
        "1 & 2 & 3\\\\ \n",
        "4 & 5 & 6\\\\ \n",
        "7 & 8 & 9\n",
        "\\end{matrix}\\right|\n",
        "\\begin{matrix}\n",
        "a\\\\ \n",
        "b\\\\\n",
        "c\n",
        "\\end{matrix}\n",
        "\\end{pmatrix}.$$\n",
        "\n",
        "Найти соотношение между параметрами $a$, $b$ и $c$, при которых система является несовместной."
      ],
      "metadata": {
        "id": "ZkjFmyrqOfno"
      }
    },
    {
      "cell_type": "markdown",
      "source": [
        "$$\\tilde{A}=\\begin{pmatrix}\n",
        "\\left.\\begin{matrix}\n",
        "1 & 2 & 3\\\\ \n",
        "2 & 1 & 0\\\\ \n",
        "0 & 0 & 0\n",
        "\\end{matrix}\\right|\n",
        "\\begin{matrix}\n",
        "a\\\\ \n",
        "b-2a\\\\\n",
        "c+a-2b\n",
        "\\end{matrix}\n",
        "\\end{pmatrix}.$$"
      ],
      "metadata": {
        "id": "FvJyI71Bb6kI"
      }
    },
    {
      "cell_type": "markdown",
      "source": [
        "если $$c+a-2b$$ не равняется 0 то система является несовместной"
      ],
      "metadata": {
        "id": "WC7_-pTbcq9C"
      }
    },
    {
      "cell_type": "markdown",
      "source": [
        "## Задание 1.2"
      ],
      "metadata": {
        "id": "A5sbTTHhPS9F"
      }
    },
    {
      "cell_type": "markdown",
      "source": [
        "Решить систему уравнений методом Крамера:\n",
        "\n",
        "   а) $\\begin{cases}\n",
        "x_{1}-2x_{2}=1 \\\\\n",
        "3x_{1}-4x_{2}=7\n",
        "\\end{cases}$\n",
        "    \n",
        "   б) $\\begin{cases}\n",
        "2x_{1}-x_{2}+5x_{3}=10 \\\\\n",
        "x_{1}+x_{2}-3x_{3}=-2 \\\\\n",
        "2x_{1}+4x_{2}+x_{3}=1\n",
        "\\end{cases}$"
      ],
      "metadata": {
        "id": "Q-MkCZHFPn1O"
      }
    },
    {
      "cell_type": "code",
      "source": [
        "a = np.array([[1, -2], [3, -4]])\n",
        "a1 = np.array([[1, -2], [7, -4]])\n",
        "a2 = np.array([[1, 1], [3, 7]])\n",
        "det_a=np.linalg.det(a)\n",
        "det_a1=np.linalg.det(a1)\n",
        "det_a2=np.linalg.det(a2)\n",
        "print('определители',det_a,det_a1,det_a2)\n",
        "x1=det_a1/det_a\n",
        "x2=det_a2/det_a\n",
        "print('решение',x1,x2)"
      ],
      "metadata": {
        "colab": {
          "base_uri": "https://localhost:8080/"
        },
        "id": "Cml0flEndR-z",
        "outputId": "794033c3-9d0d-4fd2-801d-99e72d341b22"
      },
      "execution_count": null,
      "outputs": [
        {
          "output_type": "stream",
          "name": "stdout",
          "text": [
            "определители 2.0000000000000004 9.999999999999998 3.999999999999999\n",
            "решение 4.999999999999998 1.9999999999999991\n"
          ]
        }
      ]
    },
    {
      "cell_type": "markdown",
      "source": [
        "a) Ответ: $x_{1}=5, x_{2}=2$"
      ],
      "metadata": {
        "id": "7HbImv1gdZCb"
      }
    },
    {
      "cell_type": "code",
      "source": [
        "a = np.array([[2, -1, 5], [1, 1, -3], [2, 4, 1]])\n",
        "a1 = np.array([[10, -1, 5], [-2, 1, -3], [1, 4, 1]])\n",
        "a2 = np.array([[2, 10, 5], [1, -2, -3], [2, 1, 1]])\n",
        "a3 = np.array([[2, -1, 10], [1, 1, -2], [2, 4, 1]])\n",
        "det_a=np.linalg.det(a)\n",
        "det_a1=np.linalg.det(a1)\n",
        "det_a2=np.linalg.det(a2)\n",
        "det_a3=np.linalg.det(a3)\n",
        "print('определители',det_a,det_a1,det_a2,det_a3)\n",
        "x1=det_a1/det_a\n",
        "x2=det_a2/det_a\n",
        "x3=det_a3/det_a\n",
        "print('решение',x1,x2,x3)"
      ],
      "metadata": {
        "colab": {
          "base_uri": "https://localhost:8080/"
        },
        "id": "M-orSkUcdnc6",
        "outputId": "1a154e1c-04cd-46dd-b4dc-cc25dd8a52eb"
      },
      "execution_count": null,
      "outputs": [
        {
          "output_type": "stream",
          "name": "stdout",
          "text": [
            "определители 42.99999999999998 86.00000000000004 -43.000000000000014 42.99999999999998\n",
            "решение 2.0000000000000018 -1.0000000000000009 1.0\n"
          ]
        }
      ]
    },
    {
      "cell_type": "markdown",
      "source": [
        "б) Ответ $x_{1}=2, x_{2}=-1, x_{3}=1$ $$(2,-1,1)$$"
      ],
      "metadata": {
        "id": "ZoLa3R7KdpZr"
      }
    },
    {
      "cell_type": "markdown",
      "source": [
        "## Задание 2.2"
      ],
      "metadata": {
        "id": "x5IWLVsdPcZd"
      }
    },
    {
      "cell_type": "markdown",
      "source": [
        "Найти $L$-матрицу $LU$-разложения для матрицы коэффициентов:\n",
        "\n",
        "   а)$$\\begin{pmatrix}\n",
        "1 & 2 & 4 \\\\ \n",
        "2 & 9 & 12 \\\\ \n",
        "3 & 26 & 30\n",
        "\\end{pmatrix}$$\n",
        "    \n",
        "   б)$$\\begin{pmatrix}\n",
        "1 & 1 & 2 & 4\\\\ \n",
        "2 & 5 & 8 & 9\\\\ \n",
        "3 & 18 & 29 & 18\\\\\n",
        "4 & 22 & 53 & 33\n",
        "\\end{pmatrix}$$"
      ],
      "metadata": {
        "id": "PWPOLdjwPs4P"
      }
    },
    {
      "cell_type": "markdown",
      "source": [
        "а) умножим 1 строку на 2 и вычтем из 2 строки\n",
        "U\n",
        "\n",
        "$$\\begin{pmatrix}\n",
        "1 & 2 & 4 \\\\ \n",
        "0 & 5 & 4 \\\\ \n",
        "3 & 20 & 18\n",
        "\\end{pmatrix}$$\n",
        "\n",
        "L\n",
        "\n",
        "$$\\begin{pmatrix}\n",
        "1 & 0 & 0 \\\\ \n",
        "2 &1 & 0 \\\\ \n",
        "3 & I_{32} & 1\n",
        "\\end{pmatrix}$$\n",
        "\n",
        "умножим 2 строку на 4 и вычтем из 3 строки\n",
        "\n",
        "U\n",
        "\n",
        "$$\\begin{pmatrix}\n",
        "1 & 2 & 4 \\\\ \n",
        "0 & 5 & 4 \\\\ \n",
        "0 & 0 & 2\n",
        "\\end{pmatrix}$$\n",
        "\n",
        "L\n",
        "\n",
        "$$\\begin{pmatrix}\n",
        "1 & 0 & 0 \\\\ \n",
        "2 & 1 & 0 \\\\ \n",
        "3 & 4 & 1\n",
        "\\end{pmatrix}$$\n"
      ],
      "metadata": {
        "id": "SpzrB86odqVT"
      }
    },
    {
      "cell_type": "markdown",
      "source": [
        "б) умножим 1 строку на 2 и вычтем из 2 строки\n",
        "\n",
        "U\n",
        "\n",
        "$$\\begin{pmatrix}\n",
        "1 & 1 & 2 & 4\\\\ \n",
        "0 & 3 & 4 & 1\\\\ \n",
        "3 & 18 & 29 & 18\\\\\n",
        "4 & 22 & 53 & 33\n",
        "\\end{pmatrix}$$\n",
        "\n",
        "L\n",
        "\n",
        "$$\\begin{pmatrix}\n",
        "1 & 0 & 0 & 0\\\\ \n",
        "2 & 1 & 0 & 0\\\\ \n",
        "I_{31} & I_{32} & 1 & 0\\\\\n",
        "I_{41} & I_{42} & I_{43} & 1\n",
        "\\end{pmatrix}$$\n",
        "\n",
        "умножим 1 строку на 3 и вычтем из 3 строки\n",
        "\n",
        "U\n",
        "\n",
        "$$\\begin{pmatrix}\n",
        "1 & 1 & 2 & 4\\\\ \n",
        "0 & 3 & 4 & 1\\\\ \n",
        "0 & 15 & 23 & 6\\\\\n",
        "4 & 22 & 53 & 33\n",
        "\\end{pmatrix}$$\n",
        "\n",
        "L\n",
        "\n",
        "$$\\begin{pmatrix}\n",
        "1 & 0 & 0 & 0\\\\ \n",
        "2 & 1 & 0 & 0\\\\ \n",
        "3 & I_{32} & 1 & 0\\\\\n",
        "I_{41} & I_{42} & I_{43} & 1\n",
        "\\end{pmatrix}$$\n",
        "\n",
        "Умножим 1 строку на 4 и вычтем из 4 строки\n",
        "\n",
        "U\n",
        "\n",
        "$$\\begin{pmatrix}\n",
        "1 & 1 & 2 & 4\\\\ \n",
        "0 & 3 & 4 & 1\\\\ \n",
        "0 & 15 & 23 & 6\\\\\n",
        "0 & 18 & 45 & 17\n",
        "\\end{pmatrix}$$\n",
        "\n",
        "L\n",
        "\n",
        "$$\\begin{pmatrix}\n",
        "1 & 0 & 0 & 0\\\\ \n",
        "2 & 1 & 0 & 0\\\\ \n",
        "3 & I_{32} & 1 & 0\\\\\n",
        "4 & I_{42} & I_{43} & 1\n",
        "\\end{pmatrix}$$\n",
        "\n",
        "умножим 2 строку на 5 и вычтем из 3 строки\n",
        "\n",
        "U\n",
        "\n",
        "$$\\begin{pmatrix}\n",
        "1 & 1 & 2 & 4\\\\ \n",
        "0 & 3 & 4 & 1\\\\ \n",
        "0 & 0 & 3 & 1\\\\\n",
        "0 & 18 & 45 & 17\n",
        "\\end{pmatrix}$$\n",
        "\n",
        "L\n",
        "\n",
        "$$\\begin{pmatrix}\n",
        "1 & 0 & 0 & 0\\\\ \n",
        "2 & 1 & 0 & 0\\\\ \n",
        "3 & 5 & 1 & 0\\\\\n",
        "4 & I_{42} & I_{43} & 1\n",
        "\\end{pmatrix}$$\n",
        "\n",
        "умножим 2 строку на 6 и  вычтем из 4 строки\n",
        "\n",
        "U\n",
        "\n",
        "$$\\begin{pmatrix}\n",
        "1 & 1 & 2 & 4\\\\ \n",
        "0 & 3 & 4 & 1\\\\ \n",
        "0 & 0 & 3 & 1\\\\\n",
        "0 & 0 & 21 & 11\n",
        "\\end{pmatrix}$$\n",
        "\n",
        "L\n",
        "\n",
        "$$\\begin{pmatrix}\n",
        "1 & 0 & 0 & 0\\\\ \n",
        "2 & 1 & 0 & 0\\\\ \n",
        "3 & 5 & 1 & 0\\\\\n",
        "4 & 6 & I_{43} & 1\n",
        "\\end{pmatrix}$$\n",
        "\n",
        "умножим 3 строку на 7 и вычтем из 4 строки\n",
        "\n",
        "U\n",
        "\n",
        "$$\\begin{pmatrix}\n",
        "1 & 1 & 2 & 4\\\\ \n",
        "0 & 3 & 4 & 1\\\\ \n",
        "0 & 0 & 3 & 1\\\\\n",
        "0 & 0 & 0 & 4\n",
        "\\end{pmatrix}$$\n",
        "\n",
        "L\n",
        "\n",
        "$$\\begin{pmatrix}\n",
        "1 & 0 & 0 & 0\\\\ \n",
        "2 & 1 & 0 & 0\\\\ \n",
        "3 & 5 & 1 & 0\\\\\n",
        "4 & 6 & 7 & 1\n",
        "\\end{pmatrix}$$"
      ],
      "metadata": {
        "id": "ba7T-FB_kaps"
      }
    },
    {
      "cell_type": "markdown",
      "source": [
        "## Задание 3.2"
      ],
      "metadata": {
        "id": "KSLsizkePepl"
      }
    },
    {
      "cell_type": "markdown",
      "source": [
        "Решить систему линейных уравнений методом $LU$-разложения\n",
        "\n",
        "$$\\begin{cases}\n",
        "2x_{1}+x_{2}+3x_{3}=1 \\\\\n",
        "11x_{1}+7x_{2}+5x_{3}=-6 \\\\\n",
        "9x_{1}+8x_{2}+4x_{3}=-5\n",
        "\\end{cases}$$"
      ],
      "metadata": {
        "id": "cbcurAqxPxPO"
      }
    },
    {
      "cell_type": "markdown",
      "source": [
        "## Задание 4.2"
      ],
      "metadata": {
        "id": "05rhSQ-KPhF0"
      }
    },
    {
      "cell_type": "markdown",
      "source": [
        "Решить систему линейных уравнений методом Холецкого\n",
        "\n",
        "$$\\begin{cases}\n",
        "81x_{1}-45x_{2}+45x_{3}=531 \\\\\n",
        "-45x_{1}+50x_{2}-15x_{3}=-460 \\\\\n",
        "45x_{1}-15x_{2}+38x_{3}=193\n",
        "\\end{cases}$$"
      ],
      "metadata": {
        "id": "UY31RBroP042"
      }
    },
    {
      "cell_type": "markdown",
      "source": [
        "## Задание 5.2*"
      ],
      "metadata": {
        "id": "RCUKNzD-Pjlm"
      }
    },
    {
      "cell_type": "markdown",
      "source": [
        "Написать на Python программу с реализацией одного из изученных алгоритмов решения СЛАУ."
      ],
      "metadata": {
        "id": "-_UOmUbRP3hB"
      }
    },
    {
      "cell_type": "code",
      "source": [
        "def Add_to_LU(a):\n",
        "    # создание пустых LU матриц\n",
        "    lu_matrix = np.matrix(np.zeros([a.shape[0], a.shape[1]]))\n",
        "    n = a.shape[0]\n",
        "\n",
        "    for k in range(n):\n",
        "        # находим все элементы строк\n",
        "        for j in range(k, n):\n",
        "            lu_matrix[k, j] = a[k, j] - lu_matrix[k, :k] * lu_matrix[:k, j]\n",
        "        # находим все элементы колонок\n",
        "        for i in range(k + 1, n):\n",
        "            lu_matrix[i, k] = (a[i, k] - lu_matrix[i, : k] * lu_matrix[: k, k]) / lu_matrix[k, k]\n",
        "\n",
        "    return lu_matrix\n",
        "\n",
        "\n",
        "def matrix_U(m):\n",
        "    U = m.copy()\n",
        "    for i in range(1, U.shape[0]):\n",
        "        U[i, :i] = 0\n",
        "    return U\n",
        "\n",
        "def matrix_L(m):\n",
        "    L = m.copy()\n",
        "    for i in range(L.shape[0]):\n",
        "            L[i, i] = 1\n",
        "            L[i, i+1 :] = 0\n",
        "    return np.matrix(L)\n",
        "\n",
        "def Resolve_LU(lu_matrix, b):\n",
        "    # базовый вектор y\n",
        "    y = np.matrix(np.zeros([lu_matrix.shape[0], 1]))\n",
        "    for i in range(y.shape[0]):\n",
        "        y[i, 0] = b[i, 0] - lu_matrix[i, :i] * y[:i]\n",
        "\n",
        "    # получаемый вектор x\n",
        "    x = np.matrix(np.zeros([lu_matrix.shape[0], 1]))\n",
        "    for i in range(1, x.shape[0] + 1):\n",
        "        x[-i, 0] = (y[-i] - lu_matrix[-i, -i:] * x[-i:, 0] )/ lu_matrix[-i, -i]\n",
        "\n",
        "    return x"
      ],
      "metadata": {
        "id": "3ZXlCkeHqPMy"
      },
      "execution_count": 30,
      "outputs": []
    },
    {
      "cell_type": "code",
      "source": [
        "# 3.3\n",
        "a=np.matrix('2 1 3; 11 7 5; 9 8 4')\n",
        "print(a)\n",
        "\n",
        "b=np.matrix('1; -6; -5')\n",
        "print(b)\n",
        "\n",
        "LU = Add_to_LU(a)\n",
        "L = matrix_L(LU)\n",
        "U = matrix_U(LU)\n",
        "print('L-matrix', L)\n",
        "print('U-matrix', U)\n",
        "x=Resolve_LU(Add_to_LU(a),b)\n",
        "print('Ответ',x)"
      ],
      "metadata": {
        "colab": {
          "base_uri": "https://localhost:8080/"
        },
        "id": "91lvx0iqrngs",
        "outputId": "bab6ac75-6f33-4b0a-cfea-7b01bf1fd5bf"
      },
      "execution_count": 31,
      "outputs": [
        {
          "output_type": "stream",
          "name": "stdout",
          "text": [
            "[[ 2  1  3]\n",
            " [11  7  5]\n",
            " [ 9  8  4]]\n",
            "[[ 1]\n",
            " [-6]\n",
            " [-5]]\n",
            "L-matrix [[1.         0.         0.        ]\n",
            " [5.5        1.         0.        ]\n",
            " [4.5        2.33333333 1.        ]]\n",
            "U-matrix [[  2.           1.           3.        ]\n",
            " [  0.           1.5        -11.5       ]\n",
            " [  0.           0.          17.33333333]]\n",
            "Ответ [[-1.]\n",
            " [ 0.]\n",
            " [ 1.]]\n"
          ]
        }
      ]
    },
    {
      "cell_type": "code",
      "source": [
        "# 4.3\n",
        "a=np.matrix('81 45 45; -45 50 -15; 45 -15 38')\n",
        "print(a)\n",
        "\n",
        "b=np.matrix('531; -460; 193')\n",
        "print(b)\n",
        "\n",
        "LU = Add_to_LU(a)\n",
        "L = matrix_L(LU)\n",
        "U = matrix_U(LU)\n",
        "print('L-matrix', L)\n",
        "print('U-matrix', U)\n",
        "x=Resolve_LU(Add_to_LU(a),b)\n",
        "print('Ответ',x)"
      ],
      "metadata": {
        "colab": {
          "base_uri": "https://localhost:8080/"
        },
        "id": "KSNh0zr9ub2s",
        "outputId": "ba057911-24a9-4123-a030-b79893d3b8f9"
      },
      "execution_count": 32,
      "outputs": [
        {
          "output_type": "stream",
          "name": "stdout",
          "text": [
            "[[ 81  45  45]\n",
            " [-45  50 -15]\n",
            " [ 45 -15  38]]\n",
            "[[ 531]\n",
            " [-460]\n",
            " [ 193]]\n",
            "L-matrix [[ 1.          0.          0.        ]\n",
            " [-0.55555556  1.          0.        ]\n",
            " [ 0.55555556 -0.53333333  1.        ]]\n",
            "U-matrix [[81.         45.         45.        ]\n",
            " [ 0.         75.         10.        ]\n",
            " [ 0.          0.         18.33333333]]\n",
            "Ответ [[ 12.76767677]\n",
            " [ -0.81818182]\n",
            " [-10.36363636]]\n"
          ]
        }
      ]
    }
  ]
}