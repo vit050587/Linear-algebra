{
  "nbformat": 4,
  "nbformat_minor": 0,
  "metadata": {
    "colab": {
      "name": "LinAl.ipynb",
      "provenance": [],
      "toc_visible": true,
      "authorship_tag": "ABX9TyNgpW6ugqpvOLRXl+9nmqJH",
      "include_colab_link": true
    },
    "kernelspec": {
      "name": "python3",
      "display_name": "Python 3"
    },
    "language_info": {
      "name": "python"
    }
  },
  "cells": [
    {
      "cell_type": "markdown",
      "metadata": {
        "id": "view-in-github",
        "colab_type": "text"
      },
      "source": [
        "<a href=\"https://colab.research.google.com/github/vit050587/Linear-algebra/blob/master/LinAl.ipynb\" target=\"_parent\"><img src=\"https://colab.research.google.com/assets/colab-badge.svg\" alt=\"Open In Colab\"/></a>"
      ]
    },
    {
      "cell_type": "markdown",
      "source": [
        "# Урок 1"
      ],
      "metadata": {
        "id": "S7ySGkNe29Wr"
      }
    },
    {
      "cell_type": "markdown",
      "source": [
        "## Задание 1"
      ],
      "metadata": {
        "id": "-GHqAztA3CXc"
      }
    },
    {
      "cell_type": "markdown",
      "source": [
        "Найти скалярное произведение векторов $x, y \\in \\mathbb{R}$:<br>\n",
        "а) $x=(0,-3, 6),~y=(-4, 7, 9);$<br>\n",
        "б) $x=(7, -4, 0, 1),~y=(-3, 1, 11, 2).$"
      ],
      "metadata": {
        "id": "Li0MmOMr3Tno"
      }
    },
    {
      "cell_type": "markdown",
      "source": [
        "## Задание 2"
      ],
      "metadata": {
        "id": "f7SL1Aqx3HS8"
      }
    },
    {
      "cell_type": "markdown",
      "source": [
        "Найти нормы векторов $(4, 2, 4)$ и $(12, 3, 4)$ и угол между ними."
      ],
      "metadata": {
        "id": "e4L57Nn53YJN"
      }
    },
    {
      "cell_type": "markdown",
      "source": [
        "## Задание 3"
      ],
      "metadata": {
        "id": "qfYXAKGq3JId"
      }
    },
    {
      "cell_type": "markdown",
      "source": [
        "Будет ли линейное пространство евклидовым, если за скалярное произведение принять:<br>\n",
        "а) произведение длин векторов;<br>\n",
        "б) утроенное обычное скалярное произведение векторов?"
      ],
      "metadata": {
        "id": "8s8nAwX_3ZW-"
      }
    },
    {
      "cell_type": "markdown",
      "source": [
        "## Задание 4"
      ],
      "metadata": {
        "id": "AFD07qPJ3MOz"
      }
    },
    {
      "cell_type": "markdown",
      "source": [
        "Какие из нижеперечисленных векторов образуют ортонормированный базис в линейном пространстве $\\mathbb{R}^{3}$:<br>\n",
        "а) $(1,0,0),(0,0,1);$ <br>\n",
        "б) $(1/\\sqrt{2},-1/\\sqrt{2},0),(1/\\sqrt{2},1/\\sqrt{2},0), (0,0,1);$<br>\n",
        "в) $(1/2, -1/2, 0), (0, 1/2, 1/2), (0,0,1);$<br>\n",
        "г) $(1,0,0),(0,1,0),(0,0,1)?$ "
      ],
      "metadata": {
        "id": "_bYxz7Yx3y9z"
      }
    },
    {
      "cell_type": "markdown",
      "source": [
        "# Урок 2"
      ],
      "metadata": {
        "id": "66u_18T24P8G"
      }
    },
    {
      "cell_type": "markdown",
      "source": [
        "## Задание 1"
      ],
      "metadata": {
        "id": "kHEaGYUF4TgB"
      }
    },
    {
      "cell_type": "markdown",
      "source": [
        "Вычислить определитель:\n",
        "\n",
        "   a)\n",
        "\n",
        "$$\\begin{vmatrix}\n",
        "sinx & -cosx\\\\ \n",
        "cosx & sinx\n",
        "\\end{vmatrix};$$\n",
        "\n",
        "   б)\n",
        "    \n",
        "$$\\begin{vmatrix}\n",
        "4 & 2 & 3\\\\ \n",
        "0 & 5 & 1\\\\ \n",
        "0 & 0 & 9\n",
        "\\end{vmatrix};$$\n",
        "    \n",
        "   в)\n",
        "\n",
        "$$\\begin{vmatrix}\n",
        "1 & 2 & 3\\\\ \n",
        "4 & 5 & 6\\\\ \n",
        "7 & 8 & 9\n",
        "\\end{vmatrix}.$$"
      ],
      "metadata": {
        "id": "-q1oBUHN4l73"
      }
    },
    {
      "cell_type": "markdown",
      "source": [
        "## Задание 2"
      ],
      "metadata": {
        "id": "idf25PHp4YCK"
      }
    },
    {
      "cell_type": "markdown",
      "source": [
        "Определитель матрицы $A$ равен $4$. Найти:\n",
        "\n",
        "   а) $det(A^{2})$;\n",
        "    \n",
        "   б) $det(A^{T})$;\n",
        "    \n",
        "   в) $det(2A)$."
      ],
      "metadata": {
        "id": "bJG5M2oa4nb4"
      }
    },
    {
      "cell_type": "markdown",
      "source": [
        "## Задание 3"
      ],
      "metadata": {
        "id": "9Ctf-aJj4ZSO"
      }
    },
    {
      "cell_type": "markdown",
      "source": [
        "Доказать, что матрица\n",
        "\n",
        "$$\\begin{pmatrix}\n",
        "-2 & 7 & -3\\\\ \n",
        "4 & -14 & 6\\\\ \n",
        "-3 & 7 & 13\n",
        "\\end{pmatrix}$$\n",
        "   \n",
        "вырожденная."
      ],
      "metadata": {
        "id": "EtwiD0s-4sk8"
      }
    },
    {
      "cell_type": "markdown",
      "source": [
        "## Задание 4"
      ],
      "metadata": {
        "id": "F6PQ0iZ54b_M"
      }
    },
    {
      "cell_type": "markdown",
      "source": [
        "Найти ранг матрицы:\n",
        "\n",
        "   а) $\\begin{pmatrix}\n",
        "1 & 2 & 3\\\\ \n",
        "1 & 1 & 1\\\\ \n",
        "2 & 3 & 4\n",
        "\\end{pmatrix};$\n",
        "\n",
        "   б) $\\begin{pmatrix}\n",
        "0 & 0 & 2 & 1\\\\ \n",
        "0 & 0 & 2 & 2\\\\ \n",
        "0 & 0 & 4 & 3\\\\ \n",
        "2 & 3 & 5 & 6\n",
        "\\end{pmatrix}.$"
      ],
      "metadata": {
        "id": "z3i-HOQG4whF"
      }
    }
  ]
}